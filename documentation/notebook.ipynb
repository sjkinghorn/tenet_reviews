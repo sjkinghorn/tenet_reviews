{
 "cells": [
  {
   "cell_type": "markdown",
   "id": "88504fed",
   "metadata": {},
   "source": [
    "# IMDB Tenet Reviews"
   ]
  },
  {
   "cell_type": "markdown",
   "id": "fd94f588",
   "metadata": {},
   "source": [
    "In my experience, it seems like people either love or hate the movie *Tenet*. The people that love it are enraptured by the mystery imbued in the story and the grandiosity of time inversion that is very characterisitic of Nolan films. The whole point is to be suspended in a web of missapprehension and confusion, and is meant to be watched multiple times. Critics of the movie argue that *Tenet* is overly complicated. It is a pretentious display of riddles and world dynamics that distract from a shallow story. \n",
    "\n",
    "I was curious what a broader audience of people had to say about *Tenet*. IMDB's website has about 5.5k user reviews with ratings on a scale of 10. For this project I web scraped all user reviews for *Tenet* from IMDB's website. Since the webpage only loads 25 reviews at a time, I first used Selenium to automate clicking the load button at the bottom of the page to load the next set of reviews. Once all reviews were loaded onto the page, the html file was downloaded. From here, we can use Beautiful Soup to parse the html file for the data we want. "
   ]
  },
  {
   "cell_type": "markdown",
   "id": "325dcd21",
   "metadata": {},
   "source": [
    "## Clicking \"Load More\" Button with Selenium"
   ]
  },
  {
   "cell_type": "markdown",
   "id": "33b01dd7",
   "metadata": {},
   "source": [
    "The following code is used to click the load more button on IMDB's web page and save the resulting html file. This took about 35 minutes and the code is adapted from this Stack Overflow <a href=\"https://stackoverflow.com/questions/39112138/use-selenium-to-click-a-load-more-button-until-it-doesnt-exist-youtube\">article</a>."
   ]
  },
  {
   "cell_type": "code",
   "execution_count": null,
   "id": "52a88599",
   "metadata": {},
   "outputs": [],
   "source": [
    "from selenium import webdriver\n",
    "import time\n",
    "\n",
    "\n",
    "IMDB_PAGE = \"https://www.imdb.com/title/tt6723592/reviews/?ref_=tt_ov_rt\"\n",
    "driver = webdriver.Chrome('path/to/chromedriver.exe')\n",
    "driver.get(IMDB_PAGE)\n",
    "\n",
    "while True:\n",
    "    try:\n",
    "        loadMoreButton = driver.find_element_by_css_selector(\"button.ipl-load-more__button\")\n",
    "        time.sleep(2)\n",
    "        loadMoreButton.click()\n",
    "        time.sleep(5)\n",
    "    except Exception as e:\n",
    "        print(e)\n",
    "        break\n",
    "print(\"Complete\")\n",
    "time.sleep(10)\n",
    "with open(\"../data/imdb_tenet_reviews.html\", \"w\", encoding='utf-8') as f:\n",
    "    f.write(driver.page_source)\n",
    "driver.quit()"
   ]
  },
  {
   "cell_type": "markdown",
   "id": "f0cdbc56",
   "metadata": {},
   "source": [
    "## Use Beautiful Soup to Extract Data and Save"
   ]
  },
  {
   "cell_type": "markdown",
   "id": "c4377324",
   "metadata": {},
   "source": [
    "The following code stores the rating of the review and the text of the review in a csv file. The code is adapted from this Stack Overflow <a href=\"https://stackoverflow.com/questions/42900214/how-to-download-a-html-webpage-using-selenium-with-python\">article</a>."
   ]
  },
  {
   "cell_type": "code",
   "execution_count": null,
   "id": "f3867459",
   "metadata": {},
   "outputs": [],
   "source": [
    "from bs4 import BeautifulSoup\n",
    "import pandas as pd\n",
    "import numpy as np\n",
    "\n",
    "\n",
    "with open(\"../data/imdb_tenet_reviews.html\", encoding=\"utf8\") as page:\n",
    "    soup = BeautifulSoup(page, 'html.parser')\n",
    "\n",
    "ratings = []\n",
    "reviews = []\n",
    "users = soup.select(\"div.imdb-user-review\")\n",
    "for i in range(len(users)):\n",
    "    rating = users[i].select(\"span.rating-other-user-rating span:first-of-type\")\n",
    "    if rating:\n",
    "        ratings.append(rating[0].get_text())\n",
    "    else:\n",
    "        ratings.append(np.nan)\n",
    "    review = users[i].select(\"div.text.show-more__control\")\n",
    "    if review:\n",
    "        r = \" \".join(review[0].get_text().splitlines())  # remove line breaks\n",
    "        reviews.append(r)\n",
    "    else:\n",
    "        reviews.append(np.nan)\n",
    "\n",
    "movie_reviews = pd.DataFrame({\n",
    "    \"rating\": ratings,\n",
    "    \"review\": reviews\n",
    "})\n",
    "\n",
    "movie_reviews.to_csv(\"data/tenet_reviews.csv\")"
   ]
  },
  {
   "cell_type": "markdown",
   "id": "b3455482",
   "metadata": {},
   "source": [
    "## *Tenet* Sentiment"
   ]
  },
  {
   "cell_type": "markdown",
   "id": "e58a2a24",
   "metadata": {},
   "source": [
    "With the data we can explore the distribution of ratings. "
   ]
  },
  {
   "cell_type": "code",
   "execution_count": 7,
   "id": "615924d4",
   "metadata": {},
   "outputs": [],
   "source": [
    "import pandas as pd\n",
    "import matplotlib.pyplot as plt\n",
    "import seaborn as sns\n",
    "%matplotlib inline"
   ]
  },
  {
   "cell_type": "code",
   "execution_count": 3,
   "id": "0f259fa5",
   "metadata": {},
   "outputs": [
    {
     "name": "stdout",
     "output_type": "stream",
     "text": [
      "98\n"
     ]
    },
    {
     "data": {
      "text/html": [
       "<div>\n",
       "<style scoped>\n",
       "    .dataframe tbody tr th:only-of-type {\n",
       "        vertical-align: middle;\n",
       "    }\n",
       "\n",
       "    .dataframe tbody tr th {\n",
       "        vertical-align: top;\n",
       "    }\n",
       "\n",
       "    .dataframe thead th {\n",
       "        text-align: right;\n",
       "    }\n",
       "</style>\n",
       "<table border=\"1\" class=\"dataframe\">\n",
       "  <thead>\n",
       "    <tr style=\"text-align: right;\">\n",
       "      <th></th>\n",
       "      <th>rating</th>\n",
       "      <th>review</th>\n",
       "    </tr>\n",
       "  </thead>\n",
       "  <tbody>\n",
       "    <tr>\n",
       "      <th>0</th>\n",
       "      <td>5.0</td>\n",
       "      <td>Those who liked 'Tenet' said it was confusing....</td>\n",
       "    </tr>\n",
       "    <tr>\n",
       "      <th>1</th>\n",
       "      <td>5.0</td>\n",
       "      <td>Following a muddlesome terrorist attack on an ...</td>\n",
       "    </tr>\n",
       "    <tr>\n",
       "      <th>3</th>\n",
       "      <td>7.0</td>\n",
       "      <td>Clémence Poésy character says in the film \"Don...</td>\n",
       "    </tr>\n",
       "    <tr>\n",
       "      <th>4</th>\n",
       "      <td>9.0</td>\n",
       "      <td>If you want to enjoy an intriguing and interes...</td>\n",
       "    </tr>\n",
       "    <tr>\n",
       "      <th>5</th>\n",
       "      <td>5.0</td>\n",
       "      <td>I am a big Nolan and Sci-Fi fan, and there's n...</td>\n",
       "    </tr>\n",
       "    <tr>\n",
       "      <th>...</th>\n",
       "      <td>...</td>\n",
       "      <td>...</td>\n",
       "    </tr>\n",
       "    <tr>\n",
       "      <th>5570</th>\n",
       "      <td>7.0</td>\n",
       "      <td>Tenet is what you'd think a quintessential Nol...</td>\n",
       "    </tr>\n",
       "    <tr>\n",
       "      <th>5571</th>\n",
       "      <td>9.0</td>\n",
       "      <td>It's great movieyou better watch \"tomorrow me,...</td>\n",
       "    </tr>\n",
       "    <tr>\n",
       "      <th>5572</th>\n",
       "      <td>7.0</td>\n",
       "      <td>Its great and too complex story that should ex...</td>\n",
       "    </tr>\n",
       "    <tr>\n",
       "      <th>5574</th>\n",
       "      <td>8.0</td>\n",
       "      <td>Great, really great. Good acting. Itcitxjfcjfc...</td>\n",
       "    </tr>\n",
       "    <tr>\n",
       "      <th>5575</th>\n",
       "      <td>4.0</td>\n",
       "      <td>If you gonna see it. See it slow. It's a intel...</td>\n",
       "    </tr>\n",
       "  </tbody>\n",
       "</table>\n",
       "<p>5478 rows × 2 columns</p>\n",
       "</div>"
      ],
      "text/plain": [
       "      rating                                             review\n",
       "0        5.0  Those who liked 'Tenet' said it was confusing....\n",
       "1        5.0  Following a muddlesome terrorist attack on an ...\n",
       "3        7.0  Clémence Poésy character says in the film \"Don...\n",
       "4        9.0  If you want to enjoy an intriguing and interes...\n",
       "5        5.0  I am a big Nolan and Sci-Fi fan, and there's n...\n",
       "...      ...                                                ...\n",
       "5570     7.0  Tenet is what you'd think a quintessential Nol...\n",
       "5571     9.0  It's great movieyou better watch \"tomorrow me,...\n",
       "5572     7.0  Its great and too complex story that should ex...\n",
       "5574     8.0  Great, really great. Good acting. Itcitxjfcjfc...\n",
       "5575     4.0  If you gonna see it. See it slow. It's a intel...\n",
       "\n",
       "[5478 rows x 2 columns]"
      ]
     },
     "execution_count": 3,
     "metadata": {},
     "output_type": "execute_result"
    }
   ],
   "source": [
    "# read data and drop NA's from rating\n",
    "df = pd.read_csv(\"../data/tenet_reviews.csv\")\n",
    "print(df[\"rating\"].isna().sum())\n",
    "df.dropna()"
   ]
  },
  {
   "cell_type": "code",
   "execution_count": 4,
   "id": "98ff17cf",
   "metadata": {},
   "outputs": [
    {
     "name": "stdout",
     "output_type": "stream",
     "text": [
      "10.0    0.177726\n",
      "9.0     0.115136\n",
      "8.0     0.108501\n",
      "7.0     0.093436\n",
      "6.0     0.088235\n",
      "5.0     0.083752\n",
      "4.0     0.059900\n",
      "3.0     0.067970\n",
      "2.0     0.061872\n",
      "1.0     0.125897\n",
      "Name: rating, dtype: float64\n"
     ]
    }
   ],
   "source": [
    "# percent of reviews for each rating\n",
    "ratings = df[\"rating\"].value_counts().sort_index(ascending=False) / df.shape[0]\n",
    "print(ratings)"
   ]
  },
  {
   "cell_type": "code",
   "execution_count": 8,
   "id": "6567a01d",
   "metadata": {},
   "outputs": [
    {
     "data": {
      "image/png": "[encoded data removed]",
      "text/plain": [
       "<Figure size 500x500 with 1 Axes>"
      ]
     },
     "metadata": {},
     "output_type": "display_data"
    }
   ],
   "source": [
    "# distribution of rating frequency\n",
    "sns.displot(df, x=\"rating\", discrete=True)\n",
    "plt.show()"
   ]
  },
  {
   "cell_type": "code",
   "execution_count": 5,
   "id": "c8194117",
   "metadata": {},
   "outputs": [
    {
     "name": "stdout",
     "output_type": "stream",
     "text": [
      "(0.4947991391678623, 0.5052008608321377)\n"
     ]
    }
   ],
   "source": [
    "# positive reviews vs. negative\n",
    "positive = df[df[\"rating\"] >= 7].shape[0] / df.shape[0]\n",
    "negative = 1 - positive\n",
    "print((positive, negative))"
   ]
  },
  {
   "cell_type": "markdown",
   "id": "75a8d156",
   "metadata": {},
   "source": [
    "From the plot above, we can see that a rating of 10/10 was the most frequent, followed by 1/10. This supports the hypothesis that *Tenet* is a \"love it or hate it\" movie. Reading through some of the reviews, it seemed like reviews of 7 or higher had a positive sentiment towards the movie and 6 or below had a negative sentiment. If this is the dividing line, there are about half positive reviews and half negative reviews. \n",
    "\n",
    "It might be interesting to see what words are frequently used for negative and positive sentiments. For this, we can use word clouds. The data was split by rating, where a rating of 10/10 are deemed positive and a rating of 1/10 are deemed negative. The code and idea for this can be attributed to this Towards Data Science <a href=\"https://towardsdatascience.com/a-beginners-guide-to-sentiment-analysis-in-python-95e354ea84f6\">article</a>."
   ]
  },
  {
   "cell_type": "code",
   "execution_count": null,
   "id": "19816884",
   "metadata": {},
   "outputs": [],
   "source": [
    "from wordcloud import WordCloud, STOPWORDS\n",
    "\n",
    "# load data and drop NA's\n",
    "df = pd.read_csv(\"../data/tenet_reviews.csv\")\n",
    "df.dropna()\n",
    "\n",
    "# assign reviews with rating 10 as positive and 1 as negative\n",
    "df = df[(df['rating'] == 10) | (df['rating'] == 1)]\n",
    "df['sentiment'] = df['rating'].apply(lambda r: 1 if r == 10 else -1)\n",
    "positive = df[df['sentiment'] == 1]\n",
    "negative = df[df['sentiment'] == -1]"
   ]
  },
  {
   "cell_type": "code",
   "execution_count": null,
   "id": "b1ba8342",
   "metadata": {},
   "outputs": [],
   "source": [
    "# positive word cloud\n",
    "stopwords = set(STOPWORDS)\n",
    "stopwords.update([\"br\", \"href\", \"movie\", \"tenet\", \"film\", \"Nolan\", \"Christopher\", \"time\",\n",
    "                  \"one\", \"movies\", \"watch\", \"make\", \"understand\"])\n",
    "pos = \" \".join(review for review in positive.review)\n",
    "wordcloud2 = WordCloud(stopwords=stopwords).generate(pos)\n",
    "plt.imshow(wordcloud2, interpolation='bilinear')\n",
    "plt.axis(\"off\")\n",
    "# plt.savefig('../images/wordcloud_pos.png')"
   ]
  },
  {
   "cell_type": "markdown",
   "id": "98a95a01",
   "metadata": {},
   "source": [
    "<img src=\"../images/wordcloud_pos.png\" alt=\"positive-wordcloud\" style=\"width: 400px; height: 300px; padding=0;\" />"
   ]
  },
  {
   "cell_type": "code",
   "execution_count": null,
   "id": "c6d6e506",
   "metadata": {},
   "outputs": [],
   "source": [
    "# negative word cloud\n",
    "neg = \" \".join(review for review in negative.review)\n",
    "wordcloud3 = WordCloud(stopwords=stopwords).generate(neg)\n",
    "plt.imshow(wordcloud3, interpolation='bilinear')\n",
    "plt.axis(\"off\")\n",
    "# plt.savefig('../images/wordcloud_neg.png')"
   ]
  },
  {
   "cell_type": "markdown",
   "id": "9dfcbc82",
   "metadata": {},
   "source": [
    "<img src=\"../images/wordcloud_neg.png\" alt=\"negative-wordcloud\" style=\"width: 400px; height: 300px; padding=0;\" />"
   ]
  },
  {
   "cell_type": "markdown",
   "id": "b217f5f3",
   "metadata": {},
   "source": [
    "The positive review word cloud has words like \"masterpiece\", \"great\", \"love\", \"cinema\", \"amazing\", \"think\", \"music\", and \"enjoy\". These words appeal to a sense of wonder and awe, which may be what people with positive reviews were looking for in this movie. The negative review word cloud has words like \"bad\", \"boring\", \"terrible\", \"sound\", \"dialogue\", \"waste\" and \"confusing\". *Tenet* did get some push back that the dialogue was difficult to hear, which is why words related to sound may have been relevant in negative reviews. "
   ]
  },
  {
   "cell_type": "markdown",
   "id": "dc6a73bc",
   "metadata": {},
   "source": [
    "## Summary"
   ]
  },
  {
   "cell_type": "markdown",
   "id": "13384ed8",
   "metadata": {},
   "source": [
    "Overall, it appears that *Tenet* is a disbuted movie. People that enjoyed it most likey identified with the thrill and film-making of the movie, while critics found the plot confusing and audio lacking. "
   ]
  }
 ],
 "metadata": {
  "kernelspec": {
   "display_name": "Python 3 (ipykernel)",
   "language": "python",
   "name": "python3"
  },
  "language_info": {
   "codemirror_mode": {
    "name": "ipython",
    "version": 3
   },
   "file_extension": ".py",
   "mimetype": "text/x-python",
   "name": "python",
   "nbconvert_exporter": "python",
   "pygments_lexer": "ipython3",
   "version": "3.10.9"
  }
 },
 "nbformat": 4,
 "nbformat_minor": 5
}
